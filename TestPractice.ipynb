{
 "cells": [
  {
   "cell_type": "code",
   "execution_count": 9,
   "id": "21fca4b1-5264-4355-8139-a7d5121eb4fb",
   "metadata": {},
   "outputs": [
    {
     "name": "stdin",
     "output_type": "stream",
     "text": [
      " 10\n"
     ]
    },
    {
     "name": "stdout",
     "output_type": "stream",
     "text": [
      "0\n",
      "1\n",
      "1\n",
      "2\n",
      "3\n",
      "5\n",
      "8\n",
      "13\n",
      "21\n",
      "34\n"
     ]
    }
   ],
   "source": [
    "def Fibonaci(num):\n",
    "    counter = 1\n",
    "    current=0\n",
    "    preval=1\n",
    "    while(counter<num+1):\n",
    "        print(current)\n",
    "        temp = current\n",
    "        current = current + preval\n",
    "        preval=temp        \n",
    "        counter =counter+1\n",
    "\n",
    "n = input()\n",
    "Fibonaci(int(n))"
   ]
  },
  {
   "cell_type": "code",
   "execution_count": 14,
   "id": "425ceba0-cc75-489c-8447-052df65f810d",
   "metadata": {},
   "outputs": [
    {
     "name": "stdout",
     "output_type": "stream",
     "text": [
      "H ll  H ll\n"
     ]
    }
   ],
   "source": [
    "#In a given string, remove all the vowels and then trim the empty spaces on either side of the string\n",
    "def RemoveVowel(textString):\n",
    "    string_without_vowel=\"\"\n",
    "    for chr in textString:\n",
    "        if(not Vowel(chr)):\n",
    "            string_without_vowel = string_without_vowel+chr \n",
    "        else:\n",
    "            string_without_vowel = string_without_vowel+\" \" \n",
    "    return string_without_vowel.strip()\n",
    "            \n",
    "            \n",
    "def Vowel(str):\n",
    "    if(str==\"a\" or str==\"e\" or str==\"i\" or str==\"o\" or str==\"u\"):\n",
    "        return True\n",
    "    else:\n",
    "        return False\n",
    "\n",
    "print(RemoveVowel(\"Hello Hello\"))\n"
   ]
  },
  {
   "cell_type": "code",
   "execution_count": null,
   "id": "aa08d732-6ad3-4a47-8443-2afa61f8b03b",
   "metadata": {},
   "outputs": [],
   "source": []
  },
  {
   "cell_type": "code",
   "execution_count": null,
   "id": "63b2c6e9-3925-4bfd-974d-5d7133dc7ead",
   "metadata": {},
   "outputs": [],
   "source": []
  }
 ],
 "metadata": {
  "kernelspec": {
   "display_name": "Python 3 (ipykernel)",
   "language": "python",
   "name": "python3"
  },
  "language_info": {
   "codemirror_mode": {
    "name": "ipython",
    "version": 3
   },
   "file_extension": ".py",
   "mimetype": "text/x-python",
   "name": "python",
   "nbconvert_exporter": "python",
   "pygments_lexer": "ipython3",
   "version": "3.11.2"
  }
 },
 "nbformat": 4,
 "nbformat_minor": 5
}
