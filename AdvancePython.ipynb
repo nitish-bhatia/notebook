{
 "cells": [
  {
   "cell_type": "code",
   "execution_count": 6,
   "id": "720768f2-cae4-40ca-bf62-847739d162cb",
   "metadata": {},
   "outputs": [
    {
     "name": "stdout",
     "output_type": "stream",
     "text": [
      "4\n",
      "27\n"
     ]
    }
   ],
   "source": [
    "#Anonymous function means that a function is without a name.\n",
    "#def is used to create a normal function, lambda is used to create a anonymous function\n",
    "# defining lambda function\n",
    "square = lambda x:x*x\n",
    "print(square(2))\n",
    "\n",
    "cube = lambda x:x**3\n",
    "print(cube(3))"
   ]
  },
  {
   "cell_type": "code",
   "execution_count": null,
   "id": "0774762a-8998-485f-b388-2036d3e1e6ac",
   "metadata": {},
   "outputs": [],
   "source": []
  },
  {
   "cell_type": "code",
   "execution_count": null,
   "id": "4362b114-a395-43d5-8265-ca765ba24020",
   "metadata": {},
   "outputs": [],
   "source": []
  }
 ],
 "metadata": {
  "kernelspec": {
   "display_name": "Python 3 (ipykernel)",
   "language": "python",
   "name": "python3"
  },
  "language_info": {
   "codemirror_mode": {
    "name": "ipython",
    "version": 3
   },
   "file_extension": ".py",
   "mimetype": "text/x-python",
   "name": "python",
   "nbconvert_exporter": "python",
   "pygments_lexer": "ipython3",
   "version": "3.9.2"
  }
 },
 "nbformat": 4,
 "nbformat_minor": 5
}
