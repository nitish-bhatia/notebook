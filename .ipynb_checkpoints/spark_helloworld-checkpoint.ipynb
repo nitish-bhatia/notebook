{
 "cells": [
  {
   "cell_type": "code",
   "execution_count": 1,
   "id": "4305cc64-084c-486a-9fde-c44cddd265e6",
   "metadata": {},
   "outputs": [],
   "source": [
    "import pyspark"
   ]
  },
  {
   "cell_type": "code",
   "execution_count": 2,
   "id": "f9b5f488-b33b-4a5d-b43c-d64bcd28a983",
   "metadata": {},
   "outputs": [],
   "source": [
    "data = [(\"Java\",\"74837847\"),(\"C#\",\"6387638\")]"
   ]
  },
  {
   "cell_type": "code",
   "execution_count": 3,
   "id": "9134997e-031a-4952-a8ca-7c70e089fc4d",
   "metadata": {},
   "outputs": [],
   "source": [
    "df = spark.createDataFrame(data)"
   ]
  },
  {
   "cell_type": "code",
   "execution_count": 6,
   "id": "b123208f-f750-43c1-8b35-6c9c5f0f75d4",
   "metadata": {},
   "outputs": [
    {
     "name": "stdout",
     "output_type": "stream",
     "text": [
      "+----+--------+\n",
      "|  _1|      _2|\n",
      "+----+--------+\n",
      "|Java|74837847|\n",
      "+----+--------+\n",
      "only showing top 1 row\n",
      "\n"
     ]
    }
   ],
   "source": [
    "df.show(1)"
   ]
  },
  {
   "cell_type": "code",
   "execution_count": 1,
   "id": "a3d38805-b94d-4091-be61-6799355012b4",
   "metadata": {},
   "outputs": [
    {
     "name": "stdout",
     "output_type": "stream",
     "text": [
      "Hello\n"
     ]
    }
   ],
   "source": [
    "print(\"Hello\")"
   ]
  }
 ],
 "metadata": {
  "kernelspec": {
   "display_name": "Python 3 (ipykernel)",
   "language": "python",
   "name": "python3"
  },
  "language_info": {
   "codemirror_mode": {
    "name": "ipython",
    "version": 3
   },
   "file_extension": ".py",
   "mimetype": "text/x-python",
   "name": "python",
   "nbconvert_exporter": "python",
   "pygments_lexer": "ipython3",
   "version": "3.9.2"
  }
 },
 "nbformat": 4,
 "nbformat_minor": 5
}
