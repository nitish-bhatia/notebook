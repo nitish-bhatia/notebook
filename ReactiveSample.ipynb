{
 "cells": [
  {
   "cell_type": "code",
   "execution_count": 12,
   "id": "1b69782c-14e3-47c0-91b0-a478ec53bef7",
   "metadata": {},
   "outputs": [
    {
     "name": "stdout",
     "output_type": "stream",
     "text": [
      "Received Alpha\n",
      "Received Beta\n",
      "Received Gamma\n",
      "Received Delta\n",
      "Received Epsilon\n",
      "Done!\n"
     ]
    },
    {
     "data": {
      "text/plain": [
       "<reactivex.disposable.disposable.Disposable at 0x7f98335ca0>"
      ]
     },
     "execution_count": 12,
     "metadata": {},
     "output_type": "execute_result"
    }
   ],
   "source": [
    "from reactivex import create\n",
    "#Sample from https://rxpy.readthedocs.io/en/latest/get_started.html\n",
    "\n",
    "def push_five_strings(observer, scheduler):\n",
    "    observer.on_next(\"Alpha\")\n",
    "    observer.on_next(\"Beta\")\n",
    "    observer.on_next(\"Gamma\")\n",
    "    observer.on_next(\"Delta\")\n",
    "    observer.on_next(\"Epsilon\")    \n",
    "    observer.on_completed()\n",
    "\n",
    "source = create(push_five_strings)\n",
    "\n",
    "source.subscribe(\n",
    "    on_next = lambda i: print(\"Received {0}\".format(i)),\n",
    "    on_error = lambda e: print(\"Error Occurred: {0}\".format(e)),\n",
    "    on_completed = lambda: print(\"Done!\"),\n",
    ")"
   ]
  },
  {
   "cell_type": "code",
   "execution_count": 8,
   "id": "acb687f6-cd8e-4106-b07d-3d35d0c57930",
   "metadata": {},
   "outputs": [
    {
     "ename": "ImportError",
     "evalue": "cannot import name 'Observer' from 'rx' (/home/pi/.local/lib/python3.9/site-packages/rx/__init__.py)",
     "output_type": "error",
     "traceback": [
      "\u001b[0;31m---------------------------------------------------------------------------\u001b[0m",
      "\u001b[0;31mImportError\u001b[0m                               Traceback (most recent call last)",
      "Cell \u001b[0;32mIn[8], line 1\u001b[0m\n\u001b[0;32m----> 1\u001b[0m \u001b[38;5;28;01mfrom\u001b[39;00m \u001b[38;5;21;01mrx\u001b[39;00m \u001b[38;5;28;01mimport\u001b[39;00m Observer\n",
      "\u001b[0;31mImportError\u001b[0m: cannot import name 'Observer' from 'rx' (/home/pi/.local/lib/python3.9/site-packages/rx/__init__.py)"
     ]
    }
   ],
   "source": [
    "from rx import Observer"
   ]
  },
  {
   "cell_type": "code",
   "execution_count": null,
   "id": "508776ad-12df-4126-8045-9dfc3cf3560c",
   "metadata": {},
   "outputs": [],
   "source": []
  }
 ],
 "metadata": {
  "kernelspec": {
   "display_name": "Python 3 (ipykernel)",
   "language": "python",
   "name": "python3"
  },
  "language_info": {
   "codemirror_mode": {
    "name": "ipython",
    "version": 3
   },
   "file_extension": ".py",
   "mimetype": "text/x-python",
   "name": "python",
   "nbconvert_exporter": "python",
   "pygments_lexer": "ipython3",
   "version": "3.9.2"
  }
 },
 "nbformat": 4,
 "nbformat_minor": 5
}
